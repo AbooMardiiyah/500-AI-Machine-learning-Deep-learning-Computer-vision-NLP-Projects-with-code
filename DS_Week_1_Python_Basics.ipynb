{
  "nbformat": 4,
  "nbformat_minor": 0,
  "metadata": {
    "colab": {
      "private_outputs": true,
      "provenance": [],
      "authorship_tag": "ABX9TyNYT84c4kBICuDo+r6Kvn6D",
      "include_colab_link": true
    },
    "kernelspec": {
      "name": "python3",
      "display_name": "Python 3"
    },
    "language_info": {
      "name": "python"
    }
  },
  "cells": [
    {
      "cell_type": "markdown",
      "metadata": {
        "id": "view-in-github",
        "colab_type": "text"
      },
      "source": [
        "<a href=\"https://colab.research.google.com/github/AbooMardiiyah/500-AI-Machine-learning-Deep-learning-Computer-vision-NLP-Projects-with-code/blob/main/DS_Week_1_Python_Basics.ipynb\" target=\"_parent\"><img src=\"https://colab.research.google.com/assets/colab-badge.svg\" alt=\"Open In Colab\"/></a>"
      ]
    },
    {
      "cell_type": "markdown",
      "source": [
        "For this week, we will do a quick review on python Data types starting with Strings\n",
        "\n",
        "Goals....\n",
        "* You will implement a simple task on Palindrome with python\n",
        "* Create a .py file and run it in Colab in two ways\n",
        "   * by placing the python file in the temporary working directory and running it in the next cell\n",
        "   * placing the file in a folder on your drive and running the .py file within the cell"
      ],
      "metadata": {
        "id": "FlQ9z9ky36fE"
      }
    },
    {
      "cell_type": "markdown",
      "source": [
        "## Finding length of a string"
      ],
      "metadata": {
        "id": "8iymRSjH6EYN"
      }
    },
    {
      "cell_type": "code",
      "execution_count": null,
      "metadata": {
        "id": "jZf49-Qp3xTV"
      },
      "outputs": [],
      "source": [
        "string = \"Hello, World! \"\n",
        "length = len(string)\n",
        "print(\"The length of the string is:\", length)\n"
      ]
    },
    {
      "cell_type": "code",
      "source": [
        "string = \"hello, world!\"\n",
        "uppercase_string = string.upper()\n",
        "print(\"Uppercase string:\", uppercase_string)\n"
      ],
      "metadata": {
        "id": "B7xudQjn6MWg"
      },
      "execution_count": null,
      "outputs": []
    },
    {
      "cell_type": "code",
      "source": [
        "string = \"Hello, World!\"\n",
        "prefix = \"Hello\"\n",
        "if string.startswith(prefix):\n",
        "    print(\"The string starts with the prefix.\")\n",
        "else:\n",
        "    print(\"The string does not start with the prefix.\")\n"
      ],
      "metadata": {
        "id": "HJlmw5QR6QlX"
      },
      "execution_count": null,
      "outputs": []
    },
    {
      "cell_type": "code",
      "source": [
        "string = \"Hello, World!\"\n",
        "word_list = string.split()\n",
        "print(\"List of words:\", word_list)\n"
      ],
      "metadata": {
        "id": "kpPptaWi6Qhh"
      },
      "execution_count": null,
      "outputs": []
    },
    {
      "cell_type": "code",
      "source": [],
      "metadata": {
        "id": "VbfASodFxIKA"
      },
      "execution_count": null,
      "outputs": []
    },
    {
      "cell_type": "code",
      "source": [
        "string = \"Hello, World!\"\n",
        "new_string = string.replace(\"Hello\", \"Hi\")\n",
        "print(\"Modified string:\", new_string)\n"
      ],
      "metadata": {
        "id": "9i2V01nW6Qeq"
      },
      "execution_count": null,
      "outputs": []
    },
    {
      "cell_type": "code",
      "source": [
        "string = \"Hello, World!\"\n",
        "suffix = \"World!\"\n",
        "if string.endswith(suffix):\n",
        "    print(\"The string ends with the suffix.\")\n",
        "else:\n",
        "    print(\"The string does not end with the suffix.\")\n"
      ],
      "metadata": {
        "id": "HZwQAMBM6Qb3"
      },
      "execution_count": null,
      "outputs": []
    },
    {
      "cell_type": "markdown",
      "source": [
        "#Home-Work\n",
        "## Palindrome"
      ],
      "metadata": {
        "id": "J3QKglMu7OMy"
      }
    },
    {
      "cell_type": "markdown",
      "source": [
        "* write a code that checks if a string is a palindrome in a .py file and run it in the cell below"
      ],
      "metadata": {
        "id": "10jeJRVy7WOb"
      }
    },
    {
      "cell_type": "markdown",
      "source": [
        "e.g madam, ada and so on"
      ],
      "metadata": {
        "id": "JO2VhCkY0CRc"
      }
    },
    {
      "cell_type": "markdown",
      "source": [
        "string=\"madam\"\n",
        "reversed_str=string[::-1]\n",
        "\n",
        "if string==reversed_str:\n",
        "print(\"it is a palindrome\")"
      ],
      "metadata": {
        "id": "BOIpbk-Y0r-C"
      }
    },
    {
      "cell_type": "code",
      "source": [],
      "metadata": {
        "id": "Cuvq_Z0t6QZe"
      },
      "execution_count": null,
      "outputs": []
    },
    {
      "cell_type": "code",
      "source": [],
      "metadata": {
        "id": "f6cY6WjV6QW9"
      },
      "execution_count": null,
      "outputs": []
    }
  ]
}